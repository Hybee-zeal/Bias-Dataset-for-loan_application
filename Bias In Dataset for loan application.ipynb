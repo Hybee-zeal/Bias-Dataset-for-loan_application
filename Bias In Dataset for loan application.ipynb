{
 "cells": [
  {
   "cell_type": "markdown",
   "metadata": {},
   "source": [
    "# Objective \"What are the hidden biases that could exist in datasets used to train our credit risk assessment algorithms?\"\n",
    "Could Credit Scoring Algorithm Be Biased?"
   ]
  },
  {
   "cell_type": "markdown",
   "metadata": {},
   "source": [
    "**Introduction** \n",
    "**Business Context** Investigative reports about digital financial services (DFS) have found instances of bias in the mechanisms that determine who should get a bank loan. In the developed world, financial services are typically accessed based on an algorithmic assessment of their credit history. However, these systems have historically excluded consumers who are financially marginalized through intersecting forces of oppression. A particular example is in the United States, where African Americans are disproportionately denied home loans because of a legacy of policies and banking practices implemented decades ago that were designed to exclude Black individuals from home ownership (also known as Red Lining). Beyond race or ethnicity, many other factors may contribute to unfair distribution of financial opportunities, such as an applicant's gender, location, or age."
   ]
  },
  {
   "cell_type": "code",
   "execution_count": 14,
   "metadata": {},
   "outputs": [],
   "source": [
    "# Import necessary libraries\n",
    "import pandas as pd\n",
    "from matplotlib import pyplot as plt\n",
    "import seaborn as sns\n",
    "import warnings\n",
    "warnings.filterwarnings(\"ignore\")"
   ]
  },
  {
   "cell_type": "code",
   "execution_count": 3,
   "metadata": {},
   "outputs": [
    {
     "data": {
      "text/html": [
       "<div>\n",
       "<style scoped>\n",
       "    .dataframe tbody tr th:only-of-type {\n",
       "        vertical-align: middle;\n",
       "    }\n",
       "\n",
       "    .dataframe tbody tr th {\n",
       "        vertical-align: top;\n",
       "    }\n",
       "\n",
       "    .dataframe thead th {\n",
       "        text-align: right;\n",
       "    }\n",
       "</style>\n",
       "<table border=\"1\" class=\"dataframe\">\n",
       "  <thead>\n",
       "    <tr style=\"text-align: right;\">\n",
       "      <th></th>\n",
       "      <th>Id</th>\n",
       "      <th>status</th>\n",
       "      <th>duration</th>\n",
       "      <th>credit_history</th>\n",
       "      <th>purpose</th>\n",
       "      <th>amount</th>\n",
       "      <th>employment_duration</th>\n",
       "      <th>installment_rate</th>\n",
       "      <th>personal_status_sex</th>\n",
       "      <th>other_debtors</th>\n",
       "      <th>present_residence</th>\n",
       "      <th>age</th>\n",
       "      <th>housing</th>\n",
       "      <th>number_credits</th>\n",
       "      <th>job</th>\n",
       "      <th>people_liable</th>\n",
       "      <th>foreign_worker</th>\n",
       "      <th>credit_risk</th>\n",
       "    </tr>\n",
       "  </thead>\n",
       "  <tbody>\n",
       "    <tr>\n",
       "      <th>0</th>\n",
       "      <td>0</td>\n",
       "      <td>1</td>\n",
       "      <td>18</td>\n",
       "      <td>4</td>\n",
       "      <td>2</td>\n",
       "      <td>1049</td>\n",
       "      <td>2</td>\n",
       "      <td>4</td>\n",
       "      <td>2</td>\n",
       "      <td>1</td>\n",
       "      <td>4</td>\n",
       "      <td>21</td>\n",
       "      <td>1</td>\n",
       "      <td>1</td>\n",
       "      <td>3</td>\n",
       "      <td>2</td>\n",
       "      <td>2</td>\n",
       "      <td>1</td>\n",
       "    </tr>\n",
       "    <tr>\n",
       "      <th>1</th>\n",
       "      <td>1</td>\n",
       "      <td>1</td>\n",
       "      <td>9</td>\n",
       "      <td>4</td>\n",
       "      <td>0</td>\n",
       "      <td>2799</td>\n",
       "      <td>3</td>\n",
       "      <td>2</td>\n",
       "      <td>3</td>\n",
       "      <td>1</td>\n",
       "      <td>2</td>\n",
       "      <td>36</td>\n",
       "      <td>1</td>\n",
       "      <td>2</td>\n",
       "      <td>3</td>\n",
       "      <td>1</td>\n",
       "      <td>2</td>\n",
       "      <td>1</td>\n",
       "    </tr>\n",
       "    <tr>\n",
       "      <th>2</th>\n",
       "      <td>2</td>\n",
       "      <td>2</td>\n",
       "      <td>12</td>\n",
       "      <td>2</td>\n",
       "      <td>9</td>\n",
       "      <td>841</td>\n",
       "      <td>4</td>\n",
       "      <td>2</td>\n",
       "      <td>2</td>\n",
       "      <td>1</td>\n",
       "      <td>4</td>\n",
       "      <td>23</td>\n",
       "      <td>1</td>\n",
       "      <td>1</td>\n",
       "      <td>2</td>\n",
       "      <td>2</td>\n",
       "      <td>2</td>\n",
       "      <td>1</td>\n",
       "    </tr>\n",
       "    <tr>\n",
       "      <th>3</th>\n",
       "      <td>3</td>\n",
       "      <td>1</td>\n",
       "      <td>12</td>\n",
       "      <td>4</td>\n",
       "      <td>0</td>\n",
       "      <td>2122</td>\n",
       "      <td>3</td>\n",
       "      <td>3</td>\n",
       "      <td>3</td>\n",
       "      <td>1</td>\n",
       "      <td>2</td>\n",
       "      <td>39</td>\n",
       "      <td>1</td>\n",
       "      <td>2</td>\n",
       "      <td>2</td>\n",
       "      <td>1</td>\n",
       "      <td>1</td>\n",
       "      <td>1</td>\n",
       "    </tr>\n",
       "    <tr>\n",
       "      <th>4</th>\n",
       "      <td>4</td>\n",
       "      <td>1</td>\n",
       "      <td>12</td>\n",
       "      <td>4</td>\n",
       "      <td>0</td>\n",
       "      <td>2171</td>\n",
       "      <td>3</td>\n",
       "      <td>4</td>\n",
       "      <td>3</td>\n",
       "      <td>1</td>\n",
       "      <td>4</td>\n",
       "      <td>38</td>\n",
       "      <td>2</td>\n",
       "      <td>2</td>\n",
       "      <td>2</td>\n",
       "      <td>2</td>\n",
       "      <td>1</td>\n",
       "      <td>1</td>\n",
       "    </tr>\n",
       "  </tbody>\n",
       "</table>\n",
       "</div>"
      ],
      "text/plain": [
       "   Id  status  duration  credit_history  purpose  amount  employment_duration  \\\n",
       "0   0       1        18               4        2    1049                    2   \n",
       "1   1       1         9               4        0    2799                    3   \n",
       "2   2       2        12               2        9     841                    4   \n",
       "3   3       1        12               4        0    2122                    3   \n",
       "4   4       1        12               4        0    2171                    3   \n",
       "\n",
       "   installment_rate  personal_status_sex  other_debtors  present_residence  \\\n",
       "0                 4                    2              1                  4   \n",
       "1                 2                    3              1                  2   \n",
       "2                 2                    2              1                  4   \n",
       "3                 3                    3              1                  2   \n",
       "4                 4                    3              1                  4   \n",
       "\n",
       "   age  housing  number_credits  job  people_liable  foreign_worker  \\\n",
       "0   21        1               1    3              2               2   \n",
       "1   36        1               2    3              1               2   \n",
       "2   23        1               1    2              2               2   \n",
       "3   39        1               2    2              1               1   \n",
       "4   38        2               2    2              2               1   \n",
       "\n",
       "   credit_risk  \n",
       "0            1  \n",
       "1            1  \n",
       "2            1  \n",
       "3            1  \n",
       "4            1  "
      ]
     },
     "execution_count": 3,
     "metadata": {},
     "output_type": "execute_result"
    }
   ],
   "source": [
    "# Load annd examine the dataset\n",
    "df = pd.read_csv('german_credit_updated.csv')\n",
    "df.head()"
   ]
  },
  {
   "cell_type": "code",
   "execution_count": 20,
   "metadata": {},
   "outputs": [],
   "source": [
    "updat = {1: 'Male',  3: 'Male', 2: 'Female', 4: 'Female'}\n",
    "df['Gender'] = df['personal_status_sex'].map(updat)"
   ]
  },
  {
   "cell_type": "code",
   "execution_count": 21,
   "metadata": {},
   "outputs": [
    {
     "data": {
      "text/html": [
       "<div>\n",
       "<style scoped>\n",
       "    .dataframe tbody tr th:only-of-type {\n",
       "        vertical-align: middle;\n",
       "    }\n",
       "\n",
       "    .dataframe tbody tr th {\n",
       "        vertical-align: top;\n",
       "    }\n",
       "\n",
       "    .dataframe thead th {\n",
       "        text-align: right;\n",
       "    }\n",
       "</style>\n",
       "<table border=\"1\" class=\"dataframe\">\n",
       "  <thead>\n",
       "    <tr style=\"text-align: right;\">\n",
       "      <th></th>\n",
       "      <th>Id</th>\n",
       "      <th>status</th>\n",
       "      <th>duration</th>\n",
       "      <th>credit_history</th>\n",
       "      <th>purpose</th>\n",
       "      <th>amount</th>\n",
       "      <th>employment_duration</th>\n",
       "      <th>installment_rate</th>\n",
       "      <th>personal_status_sex</th>\n",
       "      <th>other_debtors</th>\n",
       "      <th>present_residence</th>\n",
       "      <th>age</th>\n",
       "      <th>housing</th>\n",
       "      <th>number_credits</th>\n",
       "      <th>job</th>\n",
       "      <th>people_liable</th>\n",
       "      <th>foreign_worker</th>\n",
       "      <th>credit_risk</th>\n",
       "      <th>Gender</th>\n",
       "    </tr>\n",
       "  </thead>\n",
       "  <tbody>\n",
       "    <tr>\n",
       "      <th>0</th>\n",
       "      <td>0</td>\n",
       "      <td>1</td>\n",
       "      <td>18</td>\n",
       "      <td>4</td>\n",
       "      <td>2</td>\n",
       "      <td>1049</td>\n",
       "      <td>2</td>\n",
       "      <td>4</td>\n",
       "      <td>2</td>\n",
       "      <td>1</td>\n",
       "      <td>4</td>\n",
       "      <td>21</td>\n",
       "      <td>1</td>\n",
       "      <td>1</td>\n",
       "      <td>3</td>\n",
       "      <td>2</td>\n",
       "      <td>2</td>\n",
       "      <td>1</td>\n",
       "      <td>Female</td>\n",
       "    </tr>\n",
       "    <tr>\n",
       "      <th>1</th>\n",
       "      <td>1</td>\n",
       "      <td>1</td>\n",
       "      <td>9</td>\n",
       "      <td>4</td>\n",
       "      <td>0</td>\n",
       "      <td>2799</td>\n",
       "      <td>3</td>\n",
       "      <td>2</td>\n",
       "      <td>3</td>\n",
       "      <td>1</td>\n",
       "      <td>2</td>\n",
       "      <td>36</td>\n",
       "      <td>1</td>\n",
       "      <td>2</td>\n",
       "      <td>3</td>\n",
       "      <td>1</td>\n",
       "      <td>2</td>\n",
       "      <td>1</td>\n",
       "      <td>Male</td>\n",
       "    </tr>\n",
       "    <tr>\n",
       "      <th>2</th>\n",
       "      <td>2</td>\n",
       "      <td>2</td>\n",
       "      <td>12</td>\n",
       "      <td>2</td>\n",
       "      <td>9</td>\n",
       "      <td>841</td>\n",
       "      <td>4</td>\n",
       "      <td>2</td>\n",
       "      <td>2</td>\n",
       "      <td>1</td>\n",
       "      <td>4</td>\n",
       "      <td>23</td>\n",
       "      <td>1</td>\n",
       "      <td>1</td>\n",
       "      <td>2</td>\n",
       "      <td>2</td>\n",
       "      <td>2</td>\n",
       "      <td>1</td>\n",
       "      <td>Female</td>\n",
       "    </tr>\n",
       "    <tr>\n",
       "      <th>3</th>\n",
       "      <td>3</td>\n",
       "      <td>1</td>\n",
       "      <td>12</td>\n",
       "      <td>4</td>\n",
       "      <td>0</td>\n",
       "      <td>2122</td>\n",
       "      <td>3</td>\n",
       "      <td>3</td>\n",
       "      <td>3</td>\n",
       "      <td>1</td>\n",
       "      <td>2</td>\n",
       "      <td>39</td>\n",
       "      <td>1</td>\n",
       "      <td>2</td>\n",
       "      <td>2</td>\n",
       "      <td>1</td>\n",
       "      <td>1</td>\n",
       "      <td>1</td>\n",
       "      <td>Male</td>\n",
       "    </tr>\n",
       "    <tr>\n",
       "      <th>4</th>\n",
       "      <td>4</td>\n",
       "      <td>1</td>\n",
       "      <td>12</td>\n",
       "      <td>4</td>\n",
       "      <td>0</td>\n",
       "      <td>2171</td>\n",
       "      <td>3</td>\n",
       "      <td>4</td>\n",
       "      <td>3</td>\n",
       "      <td>1</td>\n",
       "      <td>4</td>\n",
       "      <td>38</td>\n",
       "      <td>2</td>\n",
       "      <td>2</td>\n",
       "      <td>2</td>\n",
       "      <td>2</td>\n",
       "      <td>1</td>\n",
       "      <td>1</td>\n",
       "      <td>Male</td>\n",
       "    </tr>\n",
       "  </tbody>\n",
       "</table>\n",
       "</div>"
      ],
      "text/plain": [
       "   Id  status  duration  credit_history  purpose  amount  employment_duration  \\\n",
       "0   0       1        18               4        2    1049                    2   \n",
       "1   1       1         9               4        0    2799                    3   \n",
       "2   2       2        12               2        9     841                    4   \n",
       "3   3       1        12               4        0    2122                    3   \n",
       "4   4       1        12               4        0    2171                    3   \n",
       "\n",
       "   installment_rate  personal_status_sex  other_debtors  present_residence  \\\n",
       "0                 4                    2              1                  4   \n",
       "1                 2                    3              1                  2   \n",
       "2                 2                    2              1                  4   \n",
       "3                 3                    3              1                  2   \n",
       "4                 4                    3              1                  4   \n",
       "\n",
       "   age  housing  number_credits  job  people_liable  foreign_worker  \\\n",
       "0   21        1               1    3              2               2   \n",
       "1   36        1               2    3              1               2   \n",
       "2   23        1               1    2              2               2   \n",
       "3   39        1               2    2              1               1   \n",
       "4   38        2               2    2              2               1   \n",
       "\n",
       "   credit_risk  Gender  \n",
       "0            1  Female  \n",
       "1            1    Male  \n",
       "2            1  Female  \n",
       "3            1    Male  \n",
       "4            1    Male  "
      ]
     },
     "execution_count": 21,
     "metadata": {},
     "output_type": "execute_result"
    }
   ],
   "source": [
    "df.head()"
   ]
  },
  {
   "cell_type": "markdown",
   "metadata": {},
   "source": [
    "Below, is a description of the most important features and what various values for those features means. Please note that the currency used in this dataset is German Deutsche Mark, which is abbreviated as DM:\n",
    "\n",
    "Id: ID of individual entries for evaluation.\n",
    "**status**: Status of the debtor's checking account with the bank.\n",
    "1: No checking account\n",
    "2: Negative account balance\n",
    "3: 0 - 199 DM account balance\n",
    "4: 200+ DM account balance\n",
    "**duration**: Credit duration, in months.\n",
    "credit_history: History of compliance with previous or concurrent credit contracts.\n",
    "0: Delay in paying off in the past\n",
    "1: Critical account/other credits elsewhere\n",
    "2: No credits taken/all credits paid back duly\n",
    "3: Existing credits paid back duly until now\n",
    "4: All credits at this bank paid back duly\n",
    "**purpose**: Purpose for which the credit is needed.\n",
    "0: Others\n",
    "1: Car (new)\n",
    "2: Car (used)\n",
    "3: Furniture/equipment\n",
    "4: Radio/television\n",
    "5: Domestic appliances\n",
    "6: Repairs\n",
    "7: Education\n",
    "8: Vacation\n",
    "9: Retraining\n",
    "10: Business\n",
    "**amount**: Credit amount in DM.\n",
    "employment_duration: Duration of debtor's employment with current employer.\n",
    "1: Unemployed\n",
    "2: Less than 1 year\n",
    "3: 1 - 3 years\n",
    "4: 4 - 6 years\n",
    "5: 7+ years\n",
    "**installment_rate**: Credit installments as a percentage of debtor's disposable income.\n",
    "1: 35%+\n",
    "2: 25 - 34.99%\n",
    "3: 20 - 24.99%\n",
    "4: Less than 20%\n",
    "**personal_status_sex**: Combined information on sex and marital status. (Sex cannot always be recovered from the variable, because male singles and female non-singles are coded with the same code 2. Furthermore, female widows cannot be easily classified, because the code table does not list them in any of the female categories.)\n",
    "1: Divorced or separated male\n",
    "2: Single male OR non-single female\n",
    "3: Married or widowed male\n",
    "4: Single female\n",
    "**other_debtors**: Whether or not there is another debtor or a guarantor for the credit.\n",
    "1: None\n",
    "2: Co-applicant\n",
    "3: Guarantor\n",
    "**present_residence**: Length of time (in years) the debtor has lived in the present residence.\n",
    "1: Less than 1 year\n",
    "2: 1 - 4 years\n",
    "3: 4 - 7 years\n",
    "4: 7+ years\n",
    "**age**: Debtor's age, in years.\n",
    "housing: Type of housing the debtor lives in.\n",
    "1: Free\n",
    "2: Rent\n",
    "3: Own\n",
    "**number_credits**: Number of credits including the current one the debtor has (or had) at this bank.\n",
    "1: 1\n",
    "2: 2 - 3\n",
    "3: 4 - 5\n",
    "4: 6+\n",
    "**job**: The quality of the debtor's job.\n",
    "1: Unemployed/unskilled non-resident\n",
    "2: Unskilled resident\n",
    "3: Skilled employee/official\n",
    "4: Manager/self-employed/highly-qualified employee\n",
    "**people_liable**: Number of persons who financially depend on the debtor (i.e. are entitled to maintenance).\n",
    "1: 3+\n",
    "2: 0 - 2\n",
    "**foreign_worker**: Whether or not the debtor is a foreign worker.\n",
    "1: Yes\n",
    "2: No\n",
    "**credit_risk**: Whether the credit contract has been complied with (good) or not (bad).\n",
    "0: Bad\n",
    "1: Good"
   ]
  },
  {
   "cell_type": "code",
   "execution_count": 6,
   "metadata": {},
   "outputs": [
    {
     "data": {
      "text/html": [
       "<div>\n",
       "<style scoped>\n",
       "    .dataframe tbody tr th:only-of-type {\n",
       "        vertical-align: middle;\n",
       "    }\n",
       "\n",
       "    .dataframe tbody tr th {\n",
       "        vertical-align: top;\n",
       "    }\n",
       "\n",
       "    .dataframe thead th {\n",
       "        text-align: right;\n",
       "    }\n",
       "</style>\n",
       "<table border=\"1\" class=\"dataframe\">\n",
       "  <thead>\n",
       "    <tr style=\"text-align: right;\">\n",
       "      <th></th>\n",
       "      <th>duration</th>\n",
       "      <th>amount</th>\n",
       "      <th>age</th>\n",
       "    </tr>\n",
       "  </thead>\n",
       "  <tbody>\n",
       "    <tr>\n",
       "      <th>count</th>\n",
       "      <td>1000.000000</td>\n",
       "      <td>1000.00000</td>\n",
       "      <td>1000.00000</td>\n",
       "    </tr>\n",
       "    <tr>\n",
       "      <th>mean</th>\n",
       "      <td>20.903000</td>\n",
       "      <td>3271.24800</td>\n",
       "      <td>35.54200</td>\n",
       "    </tr>\n",
       "    <tr>\n",
       "      <th>std</th>\n",
       "      <td>12.058814</td>\n",
       "      <td>2822.75176</td>\n",
       "      <td>11.35267</td>\n",
       "    </tr>\n",
       "    <tr>\n",
       "      <th>min</th>\n",
       "      <td>4.000000</td>\n",
       "      <td>250.00000</td>\n",
       "      <td>19.00000</td>\n",
       "    </tr>\n",
       "    <tr>\n",
       "      <th>25%</th>\n",
       "      <td>12.000000</td>\n",
       "      <td>1365.50000</td>\n",
       "      <td>27.00000</td>\n",
       "    </tr>\n",
       "    <tr>\n",
       "      <th>50%</th>\n",
       "      <td>18.000000</td>\n",
       "      <td>2319.50000</td>\n",
       "      <td>33.00000</td>\n",
       "    </tr>\n",
       "    <tr>\n",
       "      <th>75%</th>\n",
       "      <td>24.000000</td>\n",
       "      <td>3972.25000</td>\n",
       "      <td>42.00000</td>\n",
       "    </tr>\n",
       "    <tr>\n",
       "      <th>max</th>\n",
       "      <td>72.000000</td>\n",
       "      <td>18424.00000</td>\n",
       "      <td>75.00000</td>\n",
       "    </tr>\n",
       "  </tbody>\n",
       "</table>\n",
       "</div>"
      ],
      "text/plain": [
       "          duration       amount         age\n",
       "count  1000.000000   1000.00000  1000.00000\n",
       "mean     20.903000   3271.24800    35.54200\n",
       "std      12.058814   2822.75176    11.35267\n",
       "min       4.000000    250.00000    19.00000\n",
       "25%      12.000000   1365.50000    27.00000\n",
       "50%      18.000000   2319.50000    33.00000\n",
       "75%      24.000000   3972.25000    42.00000\n",
       "max      72.000000  18424.00000    75.00000"
      ]
     },
     "execution_count": 6,
     "metadata": {},
     "output_type": "execute_result"
    }
   ],
   "source": [
    "# a quick summary statistics of the duration, amount & age feature\n",
    "df[['duration', 'amount', 'age']].describe()"
   ]
  },
  {
   "cell_type": "code",
   "execution_count": 15,
   "metadata": {},
   "outputs": [
    {
     "data": {
      "image/png": "[encoded data removed]",
      "text/plain": [
       "<Figure size 1080x360 with 3 Axes>"
      ]
     },
     "metadata": {
      "needs_background": "light"
     },
     "output_type": "display_data"
    }
   ],
   "source": [
    "fig, ax = plt.subplots(1,3,figsize=(15,5))\n",
    "plt.suptitle('DISTRIBUTION PLOTS')\n",
    "sns.distplot(df['duration'], bins=35, ax=ax[0]);\n",
    "sns.distplot(df['amount'], bins=35, ax=ax[1], color='blue');\n",
    "sns.distplot(df['age'], bins=35, ax=ax[2], color='red');"
   ]
  },
  {
   "cell_type": "code",
   "execution_count": null,
   "metadata": {},
   "outputs": [],
   "source": [
    "From this visualization above, we can conclude that the duration and age features are positivelly skewed. The amount feature is not positively-skewed, though looks otherwise.  "
   ]
  },
  {
   "cell_type": "code",
   "execution_count": 35,
   "metadata": {},
   "outputs": [
    {
     "data": {
      "text/plain": [
       "Text(0.5, 1.0, 'Assigned Credibility by personal_status_sex')"
      ]
     },
     "execution_count": 35,
     "metadata": {},
     "output_type": "execute_result"
    },
    {
     "data": {
      "image/png": "[encoded data removed]",
      "text/plain": [
       "<Figure size 1080x720 with 1 Axes>"
      ]
     },
     "metadata": {
      "needs_background": "light"
     },
     "output_type": "display_data"
    }
   ],
   "source": [
    "plt.figure(figsize=(15,10))\n",
    "sns.countplot(x = \"personal_status_sex\", hue = \"credit_risk\", data = df).set_title('Assigned Credibility by personal_status_sex')"
   ]
  },
  {
   "cell_type": "code",
   "execution_count": 34,
   "metadata": {},
   "outputs": [
    {
     "data": {
      "text/plain": [
       "Text(0.5, 1.0, 'Assigned Credibility by Job')"
      ]
     },
     "execution_count": 34,
     "metadata": {},
     "output_type": "execute_result"
    },
    {
     "data": {
      "image/png": "[encoded data removed]",
      "text/plain": [
       "<Figure size 1080x720 with 1 Axes>"
      ]
     },
     "metadata": {
      "needs_background": "light"
     },
     "output_type": "display_data"
    }
   ],
   "source": [
    "plt.figure(figsize=(15,10))\n",
    "sns.countplot(x = \"job\", hue = \"credit_risk\", data = df).set_title('Assigned Credibility by Job')"
   ]
  },
  {
   "cell_type": "code",
   "execution_count": 33,
   "metadata": {},
   "outputs": [
    {
     "data": {
      "text/plain": [
       "Text(0.5, 1.0, 'Assigned Credibility by Foreign_worker')"
      ]
     },
     "execution_count": 33,
     "metadata": {},
     "output_type": "execute_result"
    },
    {
     "data": {
      "image/png": "[encoded data removed]",
      "text/plain": [
       "<Figure size 1440x720 with 1 Axes>"
      ]
     },
     "metadata": {
      "needs_background": "light"
     },
     "output_type": "display_data"
    }
   ],
   "source": [
    "plt.figure(figsize=(20,10))\n",
    "sns.countplot(x = \"foreign_worker\", hue = \"credit_risk\", data = df).set_title('Assigned Credibility by Foreign_worker')"
   ]
  },
  {
   "cell_type": "code",
   "execution_count": 32,
   "metadata": {},
   "outputs": [
    {
     "data": {
      "text/plain": [
       "Text(0.5, 1.0, 'Assigned Credibility by Financial_dependency')"
      ]
     },
     "execution_count": 32,
     "metadata": {},
     "output_type": "execute_result"
    },
    {
     "data": {
      "image/png": "[encoded data removed]",
      "text/plain": [
       "<Figure size 1800x720 with 1 Axes>"
      ]
     },
     "metadata": {
      "needs_background": "light"
     },
     "output_type": "display_data"
    }
   ],
   "source": [
    "plt.figure(figsize=(25,10))\n",
    "sns.countplot(x = \"people_liable\", hue = \"credit_risk\", data = df).set_title('Assigned Credibility by Financial_dependency')"
   ]
  },
  {
   "cell_type": "code",
   "execution_count": 31,
   "metadata": {},
   "outputs": [
    {
     "data": {
      "text/plain": [
       "Text(0.5, 1.0, 'Assigned Credibility by Gender')"
      ]
     },
     "execution_count": 31,
     "metadata": {},
     "output_type": "execute_result"
    },
    {
     "data": {
      "image/png": "[encoded data removed]",
      "text/plain": [
       "<Figure size 1800x720 with 1 Axes>"
      ]
     },
     "metadata": {
      "needs_background": "light"
     },
     "output_type": "display_data"
    }
   ],
   "source": [
    "plt.figure(figsize=(25,10))\n",
    "sns.countplot(x = \"Gender\", hue = \"credit_risk\", data = df).set_title('Assigned Credibility by Gender')"
   ]
  },
  {
   "cell_type": "markdown",
   "metadata": {},
   "source": [
    "From the age and gender graph above, we can see that Algorithmic discrimination or predictive models can become unethical when they give certain privileged groups advantages while disadvantaging other underprivileged groups.\n",
    "\n",
    "To explain this, let's see. **For gender**, we believe that men are privileged (and women are underprivileged). As can be seen in the plots generated above, women overall actually have a slightly greater rate of \"good\" creditworthiness than men (77% vs. 75%), though slightly less than \"married\" men (the male average is likely driven down by divorced and single men). However, we believe men to be privileged because of how much more prevalent they are in the dataset than women (comprising about 90% of the dataset), indicating that there could be some societal or legal factors discouraging women from seeking credit, despite the limited sample's comparable rate of \"good\" credit outcome. Further, the fact that gender is segmented further by marital status for men but not for women suggests that there may be additional limitations for women based on their marital status (for example, perhaps unmarried women are ineligible for credit).\n",
    "\n",
    "**For age**, we believe individuals over age 25 are privileged (and individuals under age 25 are underprivileged). As can be seen in the plots above, young people are materially less likely to have a \"good\" creditworthiness rating than those older than 25 (65% vs. 77%), indicating that being young could place one at a disadvantage for obtaining credit."
   ]
  },
  {
   "cell_type": "code",
   "execution_count": 29,
   "metadata": {},
   "outputs": [
    {
     "data": {
      "text/plain": [
       "Text(0.5, 1.0, 'Assigned Credibility by Age')"
      ]
     },
     "execution_count": 29,
     "metadata": {},
     "output_type": "execute_result"
    },
    {
     "data": {
      "image/png": "[encoded data removed]",
      "text/plain": [
       "<Figure size 1800x1440 with 1 Axes>"
      ]
     },
     "metadata": {
      "needs_background": "light"
     },
     "output_type": "display_data"
    }
   ],
   "source": [
    "plt.figure(figsize=(25,20))\n",
    "sns.countplot(x = \"age\", hue = \"credit_risk\", data = df).set_title('Assigned Credibility by Age')"
   ]
  },
  {
   "cell_type": "markdown",
   "metadata": {},
   "source": [
    "When examining the age distribution through histograms, we see that it is right-skewed, and that the dataset mainly represents adults in their 20s - 40s, with a mean age of 35 and a median age of 33. We see in the overlapping histogram split on creditworthiness that lower ages (below 25) and higher ages (above 50) seem to have higher percentages of being considered not credit-worthy.\n",
    "The dataset does not represent the population as a whole. Specifically, only 5% of the data are female entries! The dataset is skewed towards married men who are skilled workers.\n",
    "Only 3.7% of the dataset were foreign workers; however, this is an interesting point of contention that will be discussed in more detail below, as this is a corrected summary statistic after a mistranslation of the dataset.\n",
    "Only 16% of the dataset includes individuals with three or more dependents, meaning that individuals with few or no children are overrepresented in the data and parents of large families may be insufficiently represented.\n",
    "Overall, this dataset is not representative of the South German population, but rather is representative of German working men in their 30s in the 1970s."
   ]
  },
  {
   "cell_type": "markdown",
   "metadata": {},
   "source": [
    "**In conclusion**, \"If some group is a minority that only makes up 5% of the true distribution, then even sampling from the true data distribution will lead to a less robust model for this group.\" In this dataset, women presumably make up a minority of the true distribution, in part because of the historical bias noted above, so would be underrepresented in the ultimate dataset. Further, individuals under age 25 also make up only about 19% of observations. If a model is built on the entire dataset, it will underweight the relevant factors in the underrepresented groups as they will be \"outvoted\" by the data points from the overrepresented groups."
   ]
  }
 ],
 "metadata": {
  "kernelspec": {
   "display_name": "Python 3",
   "language": "python",
   "name": "python3"
  },
  "language_info": {
   "codemirror_mode": {
    "name": "ipython",
    "version": 3
   },
   "file_extension": ".py",
   "mimetype": "text/x-python",
   "name": "python",
   "nbconvert_exporter": "python",
   "pygments_lexer": "ipython3",
   "version": "3.8.5"
  }
 },
 "nbformat": 4,
 "nbformat_minor": 4
}
